{
 "cells": [
  {
   "cell_type": "code",
   "execution_count": 1,
   "id": "d4e6b116",
   "metadata": {},
   "outputs": [
    {
     "name": "stdout",
     "output_type": "stream",
     "text": [
      "Requirement already satisfied: scikit-learn in c:\\users\\ganas\\anaconda3\\lib\\site-packages (1.2.1)\n",
      "Requirement already satisfied: threadpoolctl>=2.0.0 in c:\\users\\ganas\\anaconda3\\lib\\site-packages (from scikit-learn) (2.2.0)\n",
      "Requirement already satisfied: numpy>=1.17.3 in c:\\users\\ganas\\anaconda3\\lib\\site-packages (from scikit-learn) (1.23.5)\n",
      "Requirement already satisfied: scipy>=1.3.2 in c:\\users\\ganas\\anaconda3\\lib\\site-packages (from scikit-learn) (1.10.0)\n",
      "Requirement already satisfied: joblib>=1.1.1 in c:\\users\\ganas\\anaconda3\\lib\\site-packages (from scikit-learn) (1.1.1)\n"
     ]
    }
   ],
   "source": [
    "!pip install scikit-learn\n"
   ]
  },
  {
   "cell_type": "code",
   "execution_count": 2,
   "id": "7b636b3e",
   "metadata": {},
   "outputs": [],
   "source": [
    "import numpy as np\n",
    "import pandas as pd\n",
    "import pickle\n",
    "from sklearn.feature_extraction.text import TfidfVectorizer\n",
    "from sklearn.model_selection import train_test_split\n",
    "from sklearn.naive_bayes import MultinomialNB\n",
    "from sklearn import metrics\n",
    "import nltk\n",
    "from nltk.corpus import movie_reviews\n"
   ]
  },
  {
   "cell_type": "code",
   "execution_count": 3,
   "id": "f2094939",
   "metadata": {},
   "outputs": [],
   "source": [
    "from sklearn.naive_bayes import MultinomialNB#to create classification\n",
    "from sklearn.feature_extraction.text import TfidfVectorizer#word vectorization\n",
    "from sklearn import metrics \n",
    "from sklearn.model_selection import train_test_split\n",
    "import pandas as pd\n",
    "import numpy as np"
   ]
  },
  {
   "cell_type": "code",
   "execution_count": 4,
   "id": "48d46fa6",
   "metadata": {},
   "outputs": [
    {
     "name": "stderr",
     "output_type": "stream",
     "text": [
      "[nltk_data] Downloading package movie_reviews to\n",
      "[nltk_data]     C:\\Users\\ganas\\AppData\\Roaming\\nltk_data...\n",
      "[nltk_data]   Package movie_reviews is already up-to-date!\n"
     ]
    },
    {
     "data": {
      "text/plain": [
       "True"
      ]
     },
     "execution_count": 4,
     "metadata": {},
     "output_type": "execute_result"
    }
   ],
   "source": [
    "import nltk #nltk has positive and negative review of the data\n",
    "from nltk.corpus import movie_reviews\n",
    "nltk.download('movie_reviews')"
   ]
  },
  {
   "cell_type": "code",
   "execution_count": 5,
   "id": "cf234ffa",
   "metadata": {},
   "outputs": [],
   "source": [
    "fileids_pos = movie_reviews.fileids('pos')\n",
    "fileids_neg = movie_reviews.fileids('neg')\n",
    "raw_data = []#contain all the review in this from the moview reviews \n",
    "for i in range(len(fileids_pos)):\n",
    "     raw_data.append(movie_reviews.raw(fileids_pos[i]))\n",
    "for i in range(len(fileids_neg)):\n",
    "     raw_data.append(movie_reviews.raw(fileids_neg[i]))"
   ]
  },
  {
   "cell_type": "code",
   "execution_count": 6,
   "id": "3624c7e1",
   "metadata": {},
   "outputs": [],
   "source": [
    "labels = [1] * len(fileids_pos) + [0] * len(fileids_neg)  #1 for positive and 0 for negtaive"
   ]
  },
  {
   "cell_type": "code",
   "execution_count": 7,
   "id": "0651e3b7",
   "metadata": {},
   "outputs": [
    {
     "data": {
      "text/plain": [
       "1"
      ]
     },
     "execution_count": 7,
     "metadata": {},
     "output_type": "execute_result"
    }
   ],
   "source": [
    "labels[1] #the first data is psotive"
   ]
  },
  {
   "cell_type": "code",
   "execution_count": 8,
   "id": "620e8864",
   "metadata": {},
   "outputs": [
    {
     "data": {
      "text/plain": [
       "'every now and then a movie comes along from a suspect studio , with every indication that it will be a stinker , and to everybody\\'s surprise ( perhaps even the studio ) the film becomes a critical darling . \\nmtv films\\' _election , a high school comedy starring matthew broderick and reese witherspoon , is a current example . \\ndid anybody know this film existed a week before it opened ? \\nthe plot is deceptively simple . \\ngeorge washington carver high school is having student elections . \\ntracy flick ( reese witherspoon ) is an over-achiever with her hand raised at nearly every question , way , way , high . \\nmr . \" m \" ( matthew broderick ) , sick of the megalomaniac student , encourages paul , a popular-but-slow jock to run . \\nand paul\\'s nihilistic sister jumps in the race as well , for personal reasons . \\nthe dark side of such sleeper success is that , because expectations were so low going in , the fact that this was quality stuff made the reviews even more enthusiastic than they have any right to be . \\nyou can\\'t help going in with the baggage of glowing reviews , which is in contrast to the negative baggage that the reviewers were likely to have . \\n_election , a good film , does not live up to its hype . \\nwhat makes _election_ so disappointing is that it contains significant plot details lifted directly from _rushmore_ , released a few months earlier . \\nthe similarities are staggering : \\ntracy flick ( _election_ ) is the president of an extraordinary number of clubs , and is involved with the school play . \\nmax fischer ( _rushmore_ ) is the president of an extraordinary number of clubs , and is involved with the school play . \\nthe most significant tension of _election_ is the potential relationship between a teacher and his student . \\nthe most significant tension of _rushmore_ is the potential relationship between a teacher and his student . \\ntracy flick is from a single parent home , which has contributed to her drive . \\nmax fischer is from a single parent home , which has contributed to his drive . \\nthe male bumbling adult in _election_ ( matthew broderick ) pursues an extramarital affair , gets caught , and his whole life is ruined . \\nhe even gets a bee sting . \\nthe male bumbling adult in _rushmore_ ( bill murray ) pursues an extramarital affair , gets caught , and his whole life is ruined . \\nhe gets several bee stings . \\nand so on . \\nwhat happened ? \\nhow is it that an individual screenplay ( _rushmore_ ) and a novel ( _election_ ) contain so many significant plot points , and yet both films were probably not even aware of each other , made from two different studios , from a genre ( the high school geeks revenge movie ) that hadn\\'t been fully formed yet ? \\neven so , the strengths of _election_ rely upon its fantastic performances from broderick , witherspoon , and newcomer jessica campbell , as paul\\'s anti-social sister , tammy . \\nbroderick here is playing the mr . rooney role from _ferris bueller_ , and he seems to be having the most fun he\\'s had since then . \\nwitherspoon is a revelation . \\nit\\'s early in the year , it\\'s a comedy , and teenagers have little clout , but for my money , witherspoon deserves an oscar nomination . \\nand once campbell\\'s character gets going , like in her fantastic speech in the gymnasium , then you\\'re won over . \\none thing that\\'s been bothering me since i\\'ve seen it . \\nthere is an extraordinary amount of sexuality in this film . \\ni suppose that , coming from mtv films , i should expect no less . . . \\nbut the film starts off light and airy , like a sitcom . \\nas the screws tighten , and the tensions mount , alexander payne decides to add elements that , frankly , distract from the story . \\nit is bad enough that mr . m doesn\\'t like tracy\\'s determination to win at all costs , but did they have to throw in the student/teacher relationship ? \\neven so , there\\'s no logical reason why mr . m has an affair when he does . \\nthere\\'s a lot to like in _election_ , but the plot similarities to _rushmore_ , and the tonal nosedive it takes as it gets explicitly sex-driven , mark this as a disappointment . \\n'"
      ]
     },
     "execution_count": 8,
     "metadata": {},
     "output_type": "execute_result"
    }
   ],
   "source": [
    "raw_data[1]"
   ]
  },
  {
   "cell_type": "code",
   "execution_count": 9,
   "id": "d0031bbb",
   "metadata": {},
   "outputs": [],
   "source": [
    "X_train, X_test, Y_train, Y_test = train_test_split(raw_data, labels, test_size=0.2)\n",
    "#to train and test the data this skaler library is used"
   ]
  },
  {
   "cell_type": "code",
   "execution_count": 10,
   "id": "3da0d040",
   "metadata": {},
   "outputs": [
    {
     "name": "stdout",
     "output_type": "stream",
     "text": [
      "(1600, 36235)\n"
     ]
    }
   ],
   "source": [
    "tfidf = TfidfVectorizer(use_idf=True) #using tfidf we are learning how much the word matters to be positive or negative\n",
    "tfidf_data = tfidf.fit_transform(X_train) #X_train = to train data we use these vector\n",
    "print(tfidf_data.shape) \n",
    "with open('tfidf_vectorizer.pkl', 'wb') as f:\n",
    "    pickle.dump(tfidf, f)"
   ]
  },
  {
   "cell_type": "code",
   "execution_count": 11,
   "id": "f65b78d1",
   "metadata": {},
   "outputs": [],
   "source": [
    "classifier = MultinomialNB().fit(tfidf_data, Y_train) #labels in Ytrain\n",
    "with open('trained_model.pkl', 'wb') as f:\n",
    "    pickle.dump(classifier, f)"
   ]
  },
  {
   "cell_type": "code",
   "execution_count": null,
   "id": "ecb20997",
   "metadata": {},
   "outputs": [],
   "source": []
  },
  {
   "cell_type": "code",
   "execution_count": 12,
   "id": "b168b884",
   "metadata": {},
   "outputs": [
    {
     "name": "stdout",
     "output_type": "stream",
     "text": [
      "              precision    recall  f1-score   support\n",
      "\n",
      "         pos       0.59      0.95      0.73       177\n",
      "         neg       0.93      0.48      0.63       223\n",
      "\n",
      "    accuracy                           0.69       400\n",
      "   macro avg       0.76      0.72      0.68       400\n",
      "weighted avg       0.78      0.69      0.67       400\n",
      "\n"
     ]
    }
   ],
   "source": [
    "testing_tfidf = tfidf.transform(X_test)\n",
    "predictions = classifier.predict(testing_tfidf)\n",
    "print(metrics.classification_report(Y_test, predictions, target_names=['pos', 'neg']))"
   ]
  },
  {
   "cell_type": "code",
   "execution_count": 13,
   "id": "ba07b991",
   "metadata": {},
   "outputs": [
    {
     "name": "stdout",
     "output_type": "stream",
     "text": [
      "[1 0]\n"
     ]
    }
   ],
   "source": [
    "t = np.array([\"i loved the love\",\"movie was not so good\"])\n",
    "t = tfidf.transform(t)\n",
    "p = classifier.predict(t)\n",
    "print(p)"
   ]
  },
  {
   "cell_type": "code",
   "execution_count": 14,
   "id": "498a90ca",
   "metadata": {},
   "outputs": [
    {
     "name": "stdout",
     "output_type": "stream",
     "text": [
      "Review: 'i loved the love' -- Predicted Sentiment: Positive\n",
      "Review: 'movie was not so good' -- Predicted Sentiment: Negative\n"
     ]
    }
   ],
   "source": [
    "# Load TfidfVectorizer\n",
    "with open('tfidf_vectorizer.pkl', 'rb') as f:\n",
    "    tfidf_loaded = pickle.load(f)\n",
    "\n",
    "# Load trained model\n",
    "with open('trained_model.pkl', 'rb') as f:\n",
    "    model_loaded = pickle.load(f)\n",
    "\n",
    "# Example input for prediction\n",
    "input_data = [\"i loved the love\", \"movie was not so good\"]\n",
    "\n",
    "# Transform input data using loaded TfidfVectorizer\n",
    "input_data_transformed = tfidf_loaded.transform(input_data)\n",
    "\n",
    "# Make predictions using loaded model\n",
    "predictions = model_loaded.predict(input_data_transformed)\n",
    "\n",
    "# Display predictions\n",
    "for review, prediction in zip(input_data, predictions):\n",
    "    sentiment = 'Positive' if prediction == 1 else 'Negative'\n",
    "    print(f\"Review: '{review}' -- Predicted Sentiment: {sentiment}\")\n"
   ]
  },
  {
   "cell_type": "code",
   "execution_count": 15,
   "id": "531f3cda",
   "metadata": {},
   "outputs": [],
   "source": [
    "filename=\"trained_model.sav\"\n",
    "pickle.dump(classifier,open(filename,'wb'))"
   ]
  },
  {
   "cell_type": "code",
   "execution_count": 16,
   "id": "6bbeba58",
   "metadata": {},
   "outputs": [],
   "source": [
    "#loading the saved model\n",
    "loaded_model=pickle.load(open('trained_model.sav','rb'))"
   ]
  },
  {
   "cell_type": "code",
   "execution_count": 17,
   "id": "4a294d63",
   "metadata": {},
   "outputs": [
    {
     "name": "stdout",
     "output_type": "stream",
     "text": [
      "[1 0]\n"
     ]
    }
   ],
   "source": [
    "t = np.array([\"i loved the love\",\"movie was not so good\"])\n",
    "t = tfidf.transform(t)\n",
    "p = loaded_model.predict(t)\n",
    "print(p)"
   ]
  },
  {
   "cell_type": "code",
   "execution_count": 19,
   "id": "12b066ee",
   "metadata": {},
   "outputs": [
    {
     "name": "stderr",
     "output_type": "stream",
     "text": [
      "2024-06-21 13:50:17.884 \n",
      "  \u001b[33m\u001b[1mWarning:\u001b[0m to view this Streamlit app on a browser, run it with the following\n",
      "  command:\n",
      "\n",
      "    streamlit run C:\\Users\\ganas\\anaconda3\\lib\\site-packages\\ipykernel_launcher.py [ARGUMENTS]\n",
      "2024-06-21 13:50:17.886 Session state does not function when running a script without `streamlit run`\n"
     ]
    }
   ],
   "source": [
    "# app.py\n",
    "import streamlit as st\n",
    "import numpy as np\n",
    "import pickle\n",
    "\n",
    "# Load the model and TfidfVectorizer from disk\n",
    "with open('trained_model.sav', 'rb') as model_file:\n",
    "    loaded_model = pickle.load(model_file)\n",
    "\n",
    "# Title of the app\n",
    "st.title(\"Movie Review Sentiment Analysis\")\n",
    "\n",
    "# Input text box\n",
    "user_input = st.text_area(\"Enter a movie review:\")\n",
    "\n",
    "if st.button(\"Predict\"):\n",
    "    if user_input:\n",
    "        # Transform the user input using the loaded TfidfVectorizer\n",
    "        t_transformed = tfidf.transform([user_input])\n",
    "        \n",
    "        # Predict using the loaded model\n",
    "        prediction = loaded_model.predict(t_transformed)\n",
    "        \n",
    "        # Display the prediction\n",
    "        sentiment = \"Positive\" if prediction[0] == 1 else \"Negative\"\n",
    "        st.write(f\"Sentiment: {sentiment}\")\n",
    "    else:\n",
    "        st.write(\"Please enter a movie review to analyze.\")\n",
    "\n",
    "# Add a section to display example reviews and their sentiments\n",
    "st.header(\"Examples\")\n",
    "example_reviews = [\"I loved the movie, it was fantastic!\", \"The movie was terrible and a waste of time.\"]\n",
    "example_predictions = loaded_model.predict(tfidf.transform(example_reviews))\n",
    "for review, pred in zip(example_reviews, example_predictions):\n",
    "    sentiment = \"Positive\" if pred == 1 else \"Negative\"\n",
    "    st.write(f\"Review: {review} \\nSentiment: {sentiment}\")\n"
   ]
  },
  {
   "cell_type": "code",
   "execution_count": 20,
   "id": "7d8ad323",
   "metadata": {},
   "outputs": [
    {
     "ename": "SyntaxError",
     "evalue": "invalid syntax (661767610.py, line 1)",
     "output_type": "error",
     "traceback": [
      "\u001b[1;36m  Cell \u001b[1;32mIn[20], line 1\u001b[1;36m\u001b[0m\n\u001b[1;33m    streamlit run C:\\Users\\ganas\\anaconda3\\lib\\site-packages\\ipykernel_launcher.py [ARGUMENTS]\u001b[0m\n\u001b[1;37m              ^\u001b[0m\n\u001b[1;31mSyntaxError\u001b[0m\u001b[1;31m:\u001b[0m invalid syntax\n"
     ]
    }
   ],
   "source": []
  },
  {
   "cell_type": "code",
   "execution_count": 17,
   "id": "35b41633",
   "metadata": {},
   "outputs": [],
   "source": []
  },
  {
   "cell_type": "code",
   "execution_count": null,
   "id": "e3599f7b",
   "metadata": {},
   "outputs": [],
   "source": []
  },
  {
   "cell_type": "code",
   "execution_count": 19,
   "id": "8aee02cf",
   "metadata": {},
   "outputs": [],
   "source": []
  },
  {
   "cell_type": "code",
   "execution_count": null,
   "id": "e8212807",
   "metadata": {},
   "outputs": [],
   "source": []
  },
  {
   "cell_type": "code",
   "execution_count": null,
   "id": "aed6c974",
   "metadata": {},
   "outputs": [],
   "source": []
  }
 ],
 "metadata": {
  "kernelspec": {
   "display_name": "Python 3 (ipykernel)",
   "language": "python",
   "name": "python3"
  },
  "language_info": {
   "codemirror_mode": {
    "name": "ipython",
    "version": 3
   },
   "file_extension": ".py",
   "mimetype": "text/x-python",
   "name": "python",
   "nbconvert_exporter": "python",
   "pygments_lexer": "ipython3",
   "version": "3.10.9"
  }
 },
 "nbformat": 4,
 "nbformat_minor": 5
}
